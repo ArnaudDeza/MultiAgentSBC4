{
 "cells": [
  {
   "cell_type": "markdown",
   "id": "ac2a8a1e-b558-4414-a2f7-75c9636e4904",
   "metadata": {},
   "source": [
    "## Structured-output vision example for Ollama \n",
    "\n",
    "Creates a synthetic image with matplotlib, saves it to a temporary PNG,\n",
    "then sends it to an LLM that supports image inputs and JSON-schema outputs.\n"
   ]
  },
  {
   "cell_type": "markdown",
   "id": "d70567fc-c11f-40dc-b94b-58dad6f51f1a",
   "metadata": {},
   "source": [
    "### Import Libraries"
   ]
  },
  {
   "cell_type": "code",
   "execution_count": 52,
   "id": "166bed56-8791-40f0-a4d6-2ad7102cf8e6",
   "metadata": {},
   "outputs": [],
   "source": [
    "import tempfile\n",
    "from pathlib import Path\n",
    "from typing import Literal, List\n",
    "import socket\n",
    "import psutil\n",
    "import subprocess\n",
    "import time\n",
    "import numpy as np\n",
    "\n",
    "import matplotlib.pyplot as plt\n",
    "from matplotlib.patches import Circle, Rectangle, Polygon, Arc\n",
    "from pydantic import BaseModel\n",
    "from ollama import chat\n",
    "from IPython.display import display"
   ]
  },
  {
   "cell_type": "markdown",
   "id": "c6447039-7ed2-4700-b603-d2880be5f13e",
   "metadata": {},
   "source": [
    "### Start the Ollama Server"
   ]
  },
  {
   "cell_type": "code",
   "execution_count": 23,
   "id": "bb833a20-4697-4079-b3b9-afccb4db6ae6",
   "metadata": {},
   "outputs": [],
   "source": [
    "def is_port_in_use(port: int = 11434) -> bool:\n",
    "    \"\"\"Check if the Ollama port is already in use\"\"\"\n",
    "    with socket.socket(socket.AF_INET, socket.SOCK_STREAM) as s:\n",
    "        return s.connect_ex(('localhost', port)) == 0\n",
    "\n",
    "def is_ollama_running() -> bool:\n",
    "    \"\"\"Check if Ollama process is running\"\"\"\n",
    "    for proc in psutil.process_iter(['name']):\n",
    "        try:\n",
    "            if proc.info['name'] == 'ollama':\n",
    "                return True\n",
    "        except (psutil.NoSuchProcess, psutil.AccessDenied, psutil.ZombieProcess):\n",
    "            pass\n",
    "    return False\n",
    "def ensure_ollama_server():\n",
    "    \"\"\"\n",
    "    Ensures that an Ollama server is running.\n",
    "    Returns the process object if a new server was started, None if server was already running.\n",
    "    \"\"\"\n",
    "    # First check if the server is already running\n",
    "    if is_ollama_running():\n",
    "        print(\"✅ Ollama server is already running!\")\n",
    "        return None\n",
    "    \n",
    "    try:\n",
    "        # Start the Ollama server\n",
    "        print(\"🚀 Starting Ollama server...\")\n",
    "        proc = subprocess.Popen(\n",
    "            [\"ollama\", \"serve\"],\n",
    "            stdout=subprocess.PIPE,\n",
    "            stderr=subprocess.PIPE,\n",
    "            start_new_session=True\n",
    "        )\n",
    "        \n",
    "        # Wait for the server to start (max 10 seconds)\n",
    "        for _ in range(10):\n",
    "            if is_port_in_use():\n",
    "                print(f\"✅ Ollama server started successfully (PID: {proc.pid})\")\n",
    "                return proc\n",
    "            time.sleep(1)\n",
    "            \n",
    "        raise TimeoutError(\"Server didn't start within 10 seconds\")\n",
    "        \n",
    "    except Exception as e:\n",
    "        print(f\"❌ Error starting Ollama server: {e}\")\n",
    "        if 'proc' in locals():\n",
    "            proc.terminate()\n",
    "        raise"
   ]
  },
  {
   "cell_type": "code",
   "execution_count": 24,
   "id": "bcb16745-d529-4361-88e8-7b7ec74c8114",
   "metadata": {},
   "outputs": [
    {
     "name": "stdout",
     "output_type": "stream",
     "text": [
      "🚀 Starting Ollama server...\n",
      "✅ Ollama server started successfully (PID: 2289006)\n"
     ]
    }
   ],
   "source": [
    "# Start the server if it's not already running\n",
    "ollama_process = ensure_ollama_server()"
   ]
  },
  {
   "cell_type": "code",
   "execution_count": 25,
   "id": "f22bcc48-5ca8-43c5-8582-40f67f5b50e8",
   "metadata": {},
   "outputs": [
    {
     "name": "stdout",
     "output_type": "stream",
     "text": [
      "NAME                      ID              SIZE      MODIFIED   \n",
      "llama3.2-vision:latest    6f2f9757ae97    7.8 GB    3 days ago    \n",
      "llama3.1:latest           46e0c10c039e    4.9 GB    3 days ago    \n",
      "llama3.2:1b               baf6a787fdff    1.3 GB    4 days ago    \n",
      "llava:latest              8dd30f6b0cb1    4.7 GB    5 days ago    \n",
      "qwen3:0.6b                7df6b6e09427    522 MB    5 days ago    \n"
     ]
    }
   ],
   "source": [
    "!ollama ls"
   ]
  },
  {
   "cell_type": "markdown",
   "id": "56439068-99d1-41e7-9a08-4da75a5c8c6b",
   "metadata": {},
   "source": [
    "## Target JSON Schema"
   ]
  },
  {
   "cell_type": "code",
   "execution_count": 26,
   "id": "086e4e10-e039-4982-92bc-bd1df4442c7c",
   "metadata": {},
   "outputs": [],
   "source": [
    "# ---------- 1. Build the target JSON schema ---------- #\n",
    "class Object(BaseModel):\n",
    "    name: str\n",
    "    confidence: float\n",
    "    attributes: str\n",
    "\n",
    "\n",
    "class ImageDescription(BaseModel):\n",
    "    summary: str\n",
    "    objects: List[Object]\n",
    "    scene: str\n",
    "    colors: List[str]\n",
    "    time_of_day: Literal[\"Morning\", \"Afternoon\", \"Evening\", \"Night\"]\n",
    "    setting: Literal[\"Indoor\", \"Outdoor\", \"Unknown\"]\n",
    "    text_content: str | None = None"
   ]
  },
  {
   "cell_type": "markdown",
   "id": "53ef9369-0088-4db1-92af-de299c955cb4",
   "metadata": {},
   "source": [
    "## Simple Dummy Image to test out"
   ]
  },
  {
   "cell_type": "code",
   "execution_count": 27,
   "id": "b10272f7-5e14-4926-b8b8-9b8f5ed97c00",
   "metadata": {},
   "outputs": [],
   "source": [
    "# ---------- 2. Create a simple image with matplotlib ---------- #\n",
    "def create_shapes_figure(path: Path, show: bool = True) -> plt.Figure:\n",
    "    \"\"\"\n",
    "    Draw three colored shapes, save to `path`, and optionally display inline.\n",
    "    \n",
    "    Args:\n",
    "      path: where to write the PNG\n",
    "      show: if True, render the figure in the notebook\n",
    "    Returns:\n",
    "      The matplotlib Figure object\n",
    "    \"\"\"\n",
    "    fig, ax = plt.subplots(figsize=(4, 4))\n",
    "    ax.set_aspect(\"equal\")\n",
    "    ax.axis(\"off\")\n",
    "\n",
    "    # Red circle\n",
    "    ax.add_patch(Circle((0.25, 0.75), 0.2, color=\"red\"))\n",
    "\n",
    "    # Green square\n",
    "    ax.add_patch(Rectangle((0.6, 0.6), 0.25, 0.25, color=\"green\"))\n",
    "\n",
    "    # Blue triangle\n",
    "    triangle = Polygon([[0.2, 0.2], [0.5, 0.2], [0.35, 0.45]], color=\"blue\")\n",
    "    ax.add_patch(triangle)\n",
    "\n",
    "    # save to disk\n",
    "    fig.savefig(path, bbox_inches=\"tight\", pad_inches=0)\n",
    "\n",
    "    if show:\n",
    "        # 1) this will render inline in most Jupyter setups\n",
    "        plt.show()\n",
    "        # —or— you can do: display(fig)\n",
    "        # display(fig)\n",
    "\n",
    "    # if you don’t want to keep it open on-screen afterwards, you can:\n",
    "    plt.close(fig)\n",
    "    return fig"
   ]
  },
  {
   "cell_type": "markdown",
   "id": "7b62020e-311d-44d4-ab15-7b46ba6c91ed",
   "metadata": {},
   "source": [
    "#### Generate the image and save it to a .png file"
   ]
  },
  {
   "cell_type": "code",
   "execution_count": 28,
   "id": "02ae6f85-0d3d-4cef-8fd6-e95f5bfac722",
   "metadata": {},
   "outputs": [
    {
     "data": {
      "image/png": "[encoded data removed]",
      "text/plain": [
       "<Figure size 400x400 with 1 Axes>"
      ]
     },
     "metadata": {},
     "output_type": "display_data"
    },
    {
     "name": "stdout",
     "output_type": "stream",
     "text": [
      "Image saved at: /tmp/tmpo7b9puag.png\n"
     ]
    }
   ],
   "source": [
    "# ---------- 3. Generate the image file in a temp directory ---------- #\n",
    "with tempfile.NamedTemporaryFile(suffix=\".png\", delete=False) as tmp:\n",
    "    img_path = Path(tmp.name)\n",
    "\n",
    "create_shapes_figure(img_path)\n",
    "print(f\"Image saved at: {img_path}\")  # Optional: confirm location\n"
   ]
  },
  {
   "cell_type": "markdown",
   "id": "dc0d7eab-abae-450f-a18c-b227282d90f2",
   "metadata": {},
   "source": [
    "## Strucutred Output request for images using Ollama"
   ]
  },
  {
   "cell_type": "code",
   "execution_count": 29,
   "id": "41e2683e-b4aa-4a91-8933-fcb5ac86920a",
   "metadata": {},
   "outputs": [
    {
     "name": "stdout",
     "output_type": "stream",
     "text": [
      "\n",
      "Structured vision output:\n",
      " summary='A simple graphic with a red circle, blue triangle, and green square.' objects=[Object(name='Red Circle', confidence=0.9999999999999999, attributes='red'), Object(name='Blue Triangle', confidence=0.9999999999999999, attributes='blue'), Object(name='Green Square', confidence=0.9999999999999999, attributes='green')] scene='Simple Graphic' colors=['red', 'blue', 'green'] time_of_day='Afternoon' setting='Indoor' text_content=None\n"
     ]
    }
   ],
   "source": [
    "# ---------- 4. Send the image to the LLM with structured-output request ---------- #\n",
    "response = chat(\n",
    "    model=\"llama3.2-vision\",                      # Make sure this model is available locally\n",
    "    format=ImageDescription.model_json_schema(),  # Instruct the model to reply with this schema\n",
    "    messages=[\n",
    "        {\n",
    "            \"role\": \"user\",\n",
    "            \"content\": (\n",
    "                \"Please analyze this figure and return a detailed JSON description. \"\n",
    "                \"Include a high-level summary, all detected objects with confidences, \"\n",
    "                \"dominant colors, scene type, and any visible text. \"\n",
    "                \"If a field is unknown, leave it empty.\"\n",
    "            ),\n",
    "            \"images\": [img_path],                 # Supply the generated PNG\n",
    "        }\n",
    "    ],\n",
    "    options={\"temperature\": 0},                   # Deterministic output\n",
    ")\n",
    "# ---------- 5. Parse the response back into our Pydantic class ---------- #\n",
    "image_analysis = ImageDescription.model_validate_json(response.message.content)\n",
    "print(\"\\nStructured vision output:\\n\", image_analysis)\n"
   ]
  },
  {
   "cell_type": "markdown",
   "id": "4c09806c-863c-45f6-b185-54c7a989f8ac",
   "metadata": {},
   "source": [
    "# Example 1: Emoji Sentiment\n",
    "\n",
    "### Goal: Detect whether the face is “happy” or “sad” and return:\n",
    "   * emotion: Literal[\"Happy\", \"Sad\"]\n",
    "   * confidence: float (0-1)"
   ]
  },
  {
   "cell_type": "code",
   "execution_count": 49,
   "id": "18eeea1b-70a7-418c-a8b9-74c01ac9865e",
   "metadata": {},
   "outputs": [],
   "source": [
    "class FaceSentiment(BaseModel):\n",
    "    emotion: Literal[\"Happy\", \"Sad\"]\n",
    "    confidence: float"
   ]
  },
  {
   "cell_type": "code",
   "execution_count": 70,
   "id": "d229eeed-c675-4c98-85a3-62e7f1e54ee4",
   "metadata": {},
   "outputs": [],
   "source": [
    "def draw_face(\n",
    "    path: Path,\n",
    "    emotion: Literal[\"happy\", \"sad\"] = \"happy\",\n",
    "    show: bool = False,\n",
    ") -> plt.Figure:\n",
    "    \"\"\"\n",
    "    Draw a happy 🙂 or sad 🙁 face and save it to `path`.\n",
    "\n",
    "    Args:\n",
    "        path: destination PNG file\n",
    "        emotion: \"happy\" or \"sad\"\n",
    "        show: whether to display inline in the notebook\n",
    "    Returns:\n",
    "        matplotlib Figure\n",
    "    \"\"\"\n",
    "    fig, ax = plt.subplots(figsize=(3, 3))\n",
    "    ax.set_aspect(\"equal\")\n",
    "    ax.axis(\"off\")\n",
    "\n",
    "    # ------------ Head ------------\n",
    "    ax.add_patch(Circle((0.5, 0.5), 0.48, color=\"#ffd966\", ec=\"black\", lw=1))\n",
    "\n",
    "    # ------------ Eyes ------------\n",
    "    ax.add_patch(Circle((0.33, 0.65), 0.06, color=\"black\"))\n",
    "    ax.add_patch(Circle((0.67, 0.65), 0.06, color=\"black\"))\n",
    "\n",
    "    # ------------ Mouth ------------\n",
    "    if emotion == \"happy\":\n",
    "        theta1, theta2, y = 200, 340, 0.52   # broad smile\n",
    "    else:  # sad\n",
    "        theta1, theta2, y = 40, 140, 0.25    # downward arc\n",
    "    ax.add_patch(\n",
    "        Arc(\n",
    "            (0.5, y),      # centre of arc\n",
    "            width=0.6,\n",
    "            height=0.4,\n",
    "            angle=0,\n",
    "            theta1=theta1,\n",
    "            theta2=theta2,\n",
    "            lw=8,\n",
    "            color=\"black\",\n",
    "        )\n",
    "    )\n",
    "\n",
    "    fig.savefig(path, bbox_inches=\"tight\", pad_inches=0)\n",
    "    if show:\n",
    "        plt.show()\n",
    "    plt.close(fig)\n",
    "    return fig\n",
    "    \n",
    "\n"
   ]
  },
  {
   "cell_type": "code",
   "execution_count": 74,
   "id": "df2b0ff1-463a-4a45-976c-061aef210305",
   "metadata": {},
   "outputs": [
    {
     "data": {
      "image/png": "[encoded data removed]",
      "text/plain": [
       "<Figure size 300x300 with 1 Axes>"
      ]
     },
     "execution_count": 74,
     "metadata": {},
     "output_type": "execute_result"
    }
   ],
   "source": [
    "draw_face(img_path, emotion=\"happy\")"
   ]
  },
  {
   "cell_type": "code",
   "execution_count": 75,
   "id": "7c74930f-ed4f-423c-9d10-090184177c12",
   "metadata": {},
   "outputs": [
    {
     "name": "stdout",
     "output_type": "stream",
     "text": [
      "emotion='Happy' confidence=0.9\n"
     ]
    }
   ],
   "source": [
    "# Structured-output request to the vision-LLM\n",
    "response = chat(\n",
    "    model=\"llama3.2-vision\",\n",
    "    format=FaceSentiment.model_json_schema(),\n",
    "    messages=[\n",
    "        {\n",
    "            \"role\": \"user\",\n",
    "            \"content\": (\n",
    "                \"Detect whether this face is happy or sad and respond with JSON \"\n",
    "                \"containing keys `emotion` and `confidence`.\"\n",
    "            ),\n",
    "            \"images\": [img_path],\n",
    "        }\n",
    "    ],\n",
    "    options={\"temperature\": 0},\n",
    ")\n",
    "\n",
    "print(FaceSentiment.model_validate_json(response.message.content))"
   ]
  },
  {
   "cell_type": "markdown",
   "id": "fb4b976b-3472-4062-802c-6eda7bcd2fdd",
   "metadata": {},
   "source": [
    "# Example 2: Reading a Bar Chart\n",
    "\n",
    "###  Goal: Extract category names and bar heights.\n"
   ]
  },
  {
   "cell_type": "code",
   "execution_count": 42,
   "id": "2ef9d721-0906-4678-bd33-87a6805c9a4a",
   "metadata": {},
   "outputs": [],
   "source": [
    "class BarValue(BaseModel):\n",
    "    label: str\n",
    "    value: float\n",
    "\n",
    "\n",
    "class ChartData(BaseModel):\n",
    "    bars: List[BarValue]\n",
    "    title: str"
   ]
  },
  {
   "cell_type": "code",
   "execution_count": 46,
   "id": "8423a939-f660-4b60-a211-598b0a8c6909",
   "metadata": {},
   "outputs": [],
   "source": [
    "def draw_bar_chart(path: Path) -> None:\n",
    "    labels = [\"Cats\", \"Dogs\", \"Birds\", \"Fish\"]\n",
    "    values = np.random.randint(1, 10, size=len(labels))\n",
    "    fig, ax = plt.subplots(figsize=(4, 3))\n",
    "    ax.bar(labels, values, color=[\"#8ecae6\", \"#219ebc\", \"#023047\", \"#ffb703\"])\n",
    "    ax.set_title(\"Pets owned by students\")\n",
    "    plt.show()\n",
    "    fig.savefig(path, bbox_inches=\"tight\")\n",
    "    plt.close(fig)"
   ]
  },
  {
   "cell_type": "code",
   "execution_count": 47,
   "id": "6c353060-1a9d-464f-9241-21052a85874d",
   "metadata": {},
   "outputs": [
    {
     "data": {
      "image/png": "[encoded data removed]",
      "text/plain": [
       "<Figure size 400x300 with 1 Axes>"
      ]
     },
     "metadata": {},
     "output_type": "display_data"
    }
   ],
   "source": [
    "with tempfile.NamedTemporaryFile(suffix=\".png\", delete=False) as tmp:\n",
    "    img_path = Path(tmp.name)\n",
    "draw_bar_chart(img_path)"
   ]
  },
  {
   "cell_type": "code",
   "execution_count": 48,
   "id": "dc4a44a2-48cf-4e4a-ad49-73b720e5e6d9",
   "metadata": {},
   "outputs": [
    {
     "name": "stdout",
     "output_type": "stream",
     "text": [
      "bars=[BarValue(label='Cats', value=6.0), BarValue(label='Dogs', value=6.0), BarValue(label='Birds', value=5.0), BarValue(label='Fish', value=7.0)] title='Pets owned by students'\n"
     ]
    }
   ],
   "source": [
    "response = chat(\n",
    "    model=\"llama3.2-vision\",\n",
    "    format=ChartData.model_json_schema(),\n",
    "    messages=[\n",
    "        {\n",
    "            \"role\": \"user\",\n",
    "            \"content\": (\n",
    "                \"Return a JSON list of the bar labels and their heights as numbers, \"\n",
    "                \"plus the chart title.\"\n",
    "            ),\n",
    "            \"images\": [img_path],\n",
    "        }\n",
    "    ],\n",
    "    options={\"temperature\": 0}\n",
    ")\n",
    "print(ChartData.model_validate_json(response.message.content))\n"
   ]
  },
  {
   "cell_type": "markdown",
   "id": "9084fa15-b32e-4878-b251-c3f06a8e51df",
   "metadata": {},
   "source": [
    "## Example X: Traffic-Light State\n",
    "### Goal: Detect which light (red/yellow/green) is illuminated."
   ]
  },
  {
   "cell_type": "code",
   "execution_count": 30,
   "id": "3399d4ba-482a-417a-956f-cfdacffafe90",
   "metadata": {},
   "outputs": [],
   "source": [
    "class TrafficSignal(BaseModel):\n",
    "    light: Literal[\"Red\", \"Yellow\", \"Green\"]\n",
    "    confidence: float"
   ]
  },
  {
   "cell_type": "code",
   "execution_count": 38,
   "id": "eb6bcf6c-3007-4d0b-910e-bd1784170c17",
   "metadata": {},
   "outputs": [],
   "source": [
    "def draw_traffic_light(path: Path, state: Literal[\"red\", \"yellow\", \"green\"]) -> None:\n",
    "    assert state in [\"red\", \"yellow\", \"green\"]\n",
    "    fig, ax = plt.subplots(figsize=(2, 4))\n",
    "    ax.axis(\"off\")\n",
    "    # Housing\n",
    "    ax.add_patch(Rectangle((0.1, 0.05), 0.8, 0.9, color=\"#333333\"))\n",
    "    # Lights\n",
    "    colors = {\"red\": (\"red\", \"#333333\", \"#333333\"),\n",
    "              \"yellow\": (\"#333333\", \"yellow\", \"#333333\"),\n",
    "              \"green\": (\"#333333\", \"#333333\", \"limegreen\")}\n",
    "    r, y, g = colors[state]\n",
    "    ax.add_patch(Circle((0.5, 0.8), 0.15, color=r))\n",
    "    ax.add_patch(Circle((0.5, 0.5), 0.15, color=y))\n",
    "    ax.add_patch(Circle((0.5, 0.2), 0.15, color=g))\n",
    "    plt.show()\n",
    "    fig.savefig(path, bbox_inches=\"tight\", pad_inches=0)\n",
    "    plt.close(fig)\n"
   ]
  },
  {
   "cell_type": "code",
   "execution_count": 39,
   "id": "3414120d-804d-4401-82fd-32898bc796bf",
   "metadata": {},
   "outputs": [
    {
     "data": {
      "image/png": "[encoded data removed]",
      "text/plain": [
       "<Figure size 200x400 with 1 Axes>"
      ]
     },
     "metadata": {},
     "output_type": "display_data"
    }
   ],
   "source": [
    "with tempfile.NamedTemporaryFile(suffix=\".png\", delete=False) as tmp:\n",
    "    img_path = Path(tmp.name)\n",
    "draw_traffic_light(img_path, state=\"yellow\")  # change state as desired"
   ]
  },
  {
   "cell_type": "code",
   "execution_count": 40,
   "id": "de1d0284-9b5e-494c-80c8-5e93477ee95d",
   "metadata": {},
   "outputs": [],
   "source": [
    "response = chat(\n",
    "    model=\"llama3.2-vision\",\n",
    "    format=TrafficSignal.model_json_schema(),\n",
    "    messages=[\n",
    "        {\n",
    "            \"role\": \"user\",\n",
    "            \"content\": (\n",
    "                \"What color is the active traffic light? \"\n",
    "                \"Respond with JSON containing `light` and `confidence`.\"\n",
    "            ),\n",
    "            \"images\": [img_path],\n",
    "        }\n",
    "    ],\n",
    "    options={\"temperature\": 0}\n",
    ")"
   ]
  },
  {
   "cell_type": "code",
   "execution_count": 41,
   "id": "fb4827df-90a6-4b7d-8387-3caa24b58969",
   "metadata": {},
   "outputs": [
    {
     "name": "stdout",
     "output_type": "stream",
     "text": [
      "light='Yellow' confidence=0.9\n"
     ]
    }
   ],
   "source": [
    "print(TrafficSignal.model_validate_json(response.message.content))\n"
   ]
  },
  {
   "cell_type": "code",
   "execution_count": null,
   "id": "41e70ae5-90fc-4869-8725-37025eb06647",
   "metadata": {},
   "outputs": [],
   "source": []
  }
 ],
 "metadata": {
  "kernelspec": {
   "display_name": "Python 3 (ipykernel)",
   "language": "python",
   "name": "python3"
  },
  "language_info": {
   "codemirror_mode": {
    "name": "ipython",
    "version": 3
   },
   "file_extension": ".py",
   "mimetype": "text/x-python",
   "name": "python",
   "nbconvert_exporter": "python",
   "pygments_lexer": "ipython3",
   "version": "3.11.13"
  }
 },
 "nbformat": 4,
 "nbformat_minor": 5
}
