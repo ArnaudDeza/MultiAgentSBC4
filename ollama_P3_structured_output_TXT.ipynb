{
 "cells": [
  {
   "cell_type": "markdown",
   "metadata": {
    "vscode": {
     "languageId": "plaintext"
    }
   },
   "source": [
    "# Getting Specific Answers from AI with Ollama! 🎯\n",
    "\n",
    "Welcome to the **Structured Output** tutorial! \n",
    "\n",
    "Sometimes we want the AI to give us very specific types of answers, like:\n",
    "- Just \"Yes\" or \"No\"\n",
    "- True or False\n",
    "- Multiple choice (A, B, C, or D)\n",
    "- Structured data like contact information\n",
    "\n",
    "This is called **\"structured output\"** because we're telling the AI exactly how to structure its answer. Let's see how to do this!\n",
    "\n",
    "## Why is this useful?\n",
    "- 🎯 **Predictable answers**: You know exactly what format you'll get back\n",
    "- 🤖 **Easy to process**: Your code can reliably work with the AI's responses\n",
    "- 📊 **Perfect for automation**: Build apps that depend on consistent AI responses\n",
    "\n",
    "Let's dive in!\n"
   ]
  },
  {
   "cell_type": "markdown",
   "metadata": {
    "vscode": {
     "languageId": "plaintext"
    }
   },
   "source": [
    "## Setup and Imports\n",
    "\n",
    "First, let's import everything we need. Make sure you have Ollama running and the required packages installed!\n"
   ]
  },
  {
   "cell_type": "code",
   "execution_count": 11,
   "metadata": {},
   "outputs": [],
   "source": [
    "# Essential imports for structured output\n",
    "from pydantic import BaseModel\n",
    "from typing import Literal\n",
    "from ollama import chat\n",
    "from datetime import date, time\n",
    "import psutil, socket, subprocess, os\n"
   ]
  },
  {
   "cell_type": "code",
   "execution_count": null,
   "metadata": {},
   "outputs": [],
   "source": [
    "def is_port_in_use(port: int = 11434) -> bool:\n",
    "    \"\"\"Check if the Ollama port is already in use\"\"\"\n",
    "    with socket.socket(socket.AF_INET, socket.SOCK_STREAM) as s:\n",
    "        return s.connect_ex(('localhost', port)) == 0\n",
    "\n",
    "def is_ollama_running() -> bool:\n",
    "    \"\"\"Check if Ollama process is running\"\"\"\n",
    "    for proc in psutil.process_iter(['name']):\n",
    "        try:\n",
    "            if proc.info['name'] == 'ollama':\n",
    "                return True\n",
    "        except (psutil.NoSuchProcess, psutil.AccessDenied, psutil.ZombieProcess):\n",
    "            pass\n",
    "    return False\n",
    "def ensure_ollama_server():\n",
    "    \"\"\"\n",
    "    Ensures that an Ollama server is running.\n",
    "    Returns the process object if a new server was started, None if server was already running.\n",
    "    \"\"\"\n",
    "    # First check if the server is already running\n",
    "    if is_port_in_use() or is_ollama_running():\n",
    "        print(\"✅ Ollama server is already running!\")\n",
    "        return None\n",
    "    \n",
    "    try:\n",
    "        # Start the Ollama server\n",
    "        print(\"🚀 Starting Ollama server...\")\n",
    "        proc = subprocess.Popen(\n",
    "            [\"ollama\", \"serve\"],\n",
    "            stdout=subprocess.PIPE,\n",
    "            stderr=subprocess.PIPE,\n",
    "            start_new_session=True\n",
    "        )\n",
    "        \n",
    "        # Wait for the server to start (max 10 seconds)\n",
    "        for _ in range(10):\n",
    "            if is_port_in_use():\n",
    "                print(f\"✅ Ollama server started successfully (PID: {proc.pid})\")\n",
    "                return proc\n",
    "            time.sleep(1)\n",
    "            \n",
    "        raise TimeoutError(\"Server didn't start within 10 seconds\")\n",
    "        \n",
    "    except Exception as e:\n",
    "        print(f\"❌ Error starting Ollama server: {e}\")\n",
    "        if 'proc' in locals():\n",
    "            proc.terminate()\n",
    "        raise"
   ]
  },
  {
   "cell_type": "code",
   "execution_count": null,
   "metadata": {},
   "outputs": [],
   "source": [
    "# Start the server if it's not already running\n",
    "ollama_process = ensure_ollama_server()"
   ]
  },
  {
   "cell_type": "code",
   "execution_count": null,
   "metadata": {},
   "outputs": [],
   "source": [
    "!ollama ls"
   ]
  },
  {
   "cell_type": "code",
   "execution_count": null,
   "metadata": {},
   "outputs": [],
   "source": [
    "print(\"✅ All imports successful! Ready to start structured output magic!\")"
   ]
  },
  {
   "cell_type": "markdown",
   "metadata": {},
   "source": [
    "## Simple Examples of Structured Text Output\n",
    "\n",
    "Let's start with the basics. We'll create **Pydantic models** that tell the AI exactly what kind of answer we want.\n"
   ]
  },
  {
   "cell_type": "code",
   "execution_count": 2,
   "metadata": {},
   "outputs": [
    {
     "name": "stdout",
     "output_type": "stream",
     "text": [
      "📋 Schema classes defined! These tell the AI the exact format we want.\n"
     ]
    }
   ],
   "source": [
    "# These classes tell the AI exactly what kind of answer we want\n",
    "class YesNoAnswer(BaseModel):\n",
    "    \"\"\"For questions that should be answered with Yes or No\"\"\"\n",
    "    answer: Literal[\"Yes\", \"No\"]\n",
    "\n",
    "class TrueFalseAnswer(BaseModel):\n",
    "    \"\"\"For statements that should be marked True or False\"\"\"\n",
    "    answer: bool\n",
    "\n",
    "class MultipleChoiceAnswer(BaseModel):\n",
    "    \"\"\"For questions with A, B, C, or D options\"\"\"\n",
    "    answer: Literal[\"A\", \"B\", \"C\", \"D\"]\n",
    "\n",
    "print(\"📋 Schema classes defined! These tell the AI the exact format we want.\")\n"
   ]
  },
  {
   "cell_type": "markdown",
   "metadata": {},
   "source": [
    "## The Magic Helper Function\n",
    "\n",
    "Now let's create a helper function that makes getting structured answers super easy!\n"
   ]
  },
  {
   "cell_type": "code",
   "execution_count": 3,
   "metadata": {},
   "outputs": [
    {
     "name": "stdout",
     "output_type": "stream",
     "text": [
      "🛠️ Helper function ready! Now we can easily get structured answers.\n"
     ]
    }
   ],
   "source": [
    "def get_structured_answer(prompt: str, answer_type: BaseModel, model: str = \"qwen3:0.6b\"):\n",
    "    \"\"\"\n",
    "    Get a specific type of answer from the AI\n",
    "    \n",
    "    Args:\n",
    "        prompt: Your question\n",
    "        answer_type: What kind of answer you want (YesNoAnswer, TrueFalseAnswer, or MultipleChoiceAnswer)\n",
    "        model: Which AI model to use\n",
    "    \"\"\"\n",
    "    try:\n",
    "        # Ask the AI with structured format\n",
    "        response = chat(\n",
    "            model=model,\n",
    "            options={\"temperature\": 0.0},  # We want consistent answers here\n",
    "            messages=[\n",
    "                {\"role\": \"user\", \"content\": prompt}\n",
    "            ],\n",
    "            format=answer_type.model_json_schema()  # This is the magic! 🎩✨\n",
    "        )\n",
    "        \n",
    "        # Get and validate the answer \n",
    "        validated_answer = answer_type.model_validate_json(response.message.content)\n",
    "        return validated_answer\n",
    "        \n",
    "    except Exception as e:\n",
    "        return f\"Oops! Something went wrong: {e}\"\n",
    "\n",
    "print(\"🛠️ Helper function ready! Now we can easily get structured answers.\")\n"
   ]
  },
  {
   "cell_type": "markdown",
   "metadata": {},
   "source": [
    "## Let's Try Some Examples!\n",
    "\n",
    "Time to see our structured output in action! 🚀\n"
   ]
  },
  {
   "cell_type": "code",
   "execution_count": 4,
   "metadata": {},
   "outputs": [
    {
     "name": "stdout",
     "output_type": "stream",
     "text": [
      "\n",
      "❓ Question: Is Python a programming language?\n",
      "✅ Answer: Yes\n"
     ]
    }
   ],
   "source": [
    "# Yes/No question\n",
    "yes_no_q = \"Is Python a programming language?\"\n",
    "yes_no_answer = get_structured_answer(yes_no_q, YesNoAnswer)\n",
    "print(f\"\\n❓ Question: {yes_no_q}\")\n",
    "print(f\"✅ Answer: {yes_no_answer.answer if hasattr(yes_no_answer, 'answer') else yes_no_answer}\")\n"
   ]
  },
  {
   "cell_type": "code",
   "execution_count": 6,
   "metadata": {},
   "outputs": [
    {
     "name": "stdout",
     "output_type": "stream",
     "text": [
      "\n",
      "📝 Statement: The Earth is round.\n",
      "✅ Answer: True\n"
     ]
    }
   ],
   "source": [
    "# True/False statement\n",
    "true_false_q = \"The Earth is round.\"\n",
    "true_false_answer = get_structured_answer(true_false_q, TrueFalseAnswer)\n",
    "print(f\"\\n📝 Statement: {true_false_q}\")\n",
    "print(f\"✅ Answer: {true_false_answer.answer if hasattr(true_false_answer, 'answer') else true_false_answer}\")\n"
   ]
  },
  {
   "cell_type": "code",
   "execution_count": 7,
   "metadata": {},
   "outputs": [
    {
     "name": "stdout",
     "output_type": "stream",
     "text": [
      "\n",
      "🎯 Question: \n",
      "What is the main purpose of a computer's CPU?\n",
      "A) Store data permanently\n",
      "B) Process instructions and perform calculations\n",
      "C) Display images on the screen\n",
      "D) Connect to the internet\n",
      "\n",
      "✅ Answer: B\n"
     ]
    }
   ],
   "source": [
    "# Multiple choice question\n",
    "multiple_choice_q = \"\"\"\n",
    "What is the main purpose of a computer's CPU?\n",
    "A) Store data permanently\n",
    "B) Process instructions and perform calculations\n",
    "C) Display images on the screen\n",
    "D) Connect to the internet\n",
    "\"\"\"\n",
    "mc_answer = get_structured_answer(multiple_choice_q, MultipleChoiceAnswer)\n",
    "print(f\"\\n🎯 Question: {multiple_choice_q}\")\n",
    "print(f\"✅ Answer: {mc_answer.answer if hasattr(mc_answer, 'answer') else mc_answer}\")\n"
   ]
  },
  {
   "cell_type": "markdown",
   "metadata": {},
   "source": [
    "## More Complex Example: Friend List 👥\n",
    "\n",
    "Now let's try something more sophisticated! We'll ask the AI to extract information about multiple people and structure it as a list.\n"
   ]
  },
  {
   "cell_type": "code",
   "execution_count": 8,
   "metadata": {},
   "outputs": [
    {
     "name": "stdout",
     "output_type": "stream",
     "text": [
      "👥 Complex schema defined! This can handle lists of structured data.\n"
     ]
    }
   ],
   "source": [
    "# Define complex nested schemas\n",
    "class FriendInfo(BaseModel):\n",
    "    name: str\n",
    "    age: int\n",
    "    is_available: bool\n",
    "\n",
    "class FriendList(BaseModel):\n",
    "    friends: list[FriendInfo]\n",
    "\n",
    "print(\"👥 Complex schema defined! This can handle lists of structured data.\")\n"
   ]
  },
  {
   "cell_type": "code",
   "execution_count": 9,
   "metadata": {},
   "outputs": [
    {
     "name": "stdout",
     "output_type": "stream",
     "text": [
      "\n",
      "👥 Friends extracted:\n",
      "  • Ollama (age 22) - available\n",
      "  • Alonso (age 23) - busy\n"
     ]
    }
   ],
   "source": [
    "# Let's use the complex schema\n",
    "response = chat(\n",
    "    model='qwen3:0.6b',\n",
    "    messages=[{\n",
    "        'role': 'user', \n",
    "        'content': 'I have two friends. The first is Ollama 22 years old busy saving the world, and the second is Alonso 23 years old and wants to hang out. Return a list of friends in JSON format'\n",
    "    }],\n",
    "    format=FriendList.model_json_schema(),\n",
    "    options={'temperature': 0},\n",
    ")\n",
    "\n",
    "# Use Pydantic to validate the response\n",
    "friends_response = FriendList.model_validate_json(response.message.content)\n",
    "print(\"\\n👥 Friends extracted:\")\n",
    "for friend in friends_response.friends:\n",
    "    status = \"available\" if friend.is_available else \"busy\"\n",
    "    print(f\"  • {friend.name} (age {friend.age}) - {status}\")\n"
   ]
  },
  {
   "cell_type": "markdown",
   "metadata": {},
   "source": [
    "## 🏋️‍♀️ Time for Exercises!\n",
    "\n",
    "Now it's your turn! Complete these 5 exercises to master structured output. Follow the comments and fill in the missing code.\n"
   ]
  },
  {
   "cell_type": "markdown",
   "metadata": {},
   "source": [
    "### Exercise 1: Star Rating ⭐\n",
    "\n",
    "Create a rating system that only accepts 1-5 stars.\n"
   ]
  },
  {
   "cell_type": "code",
   "execution_count": null,
   "metadata": {},
   "outputs": [],
   "source": [
    "# TODO: Define a StarRating model that only accepts ratings from 1 to 5\n",
    "class StarRating(BaseModel):\n",
    "    \"\"\"Rate something on a scale from 1 to 5\"\"\"\n",
    "    # YOUR CODE HERE: Add a rating field that only accepts 1, 2, 3, 4, or 5\n",
    "    pass\n",
    "\n",
    "# TODO: Use get_structured_answer to ask: \"On a scale from 1 to 5, how interesting is machine learning?\"\n",
    "# YOUR CODE HERE\n",
    "\n",
    "# TODO: Print the rating\n",
    "# YOUR CODE HERE\n"
   ]
  },
  {
   "cell_type": "markdown",
   "metadata": {},
   "source": [
    "### Exercise 2: Top Animals List 🐾\n",
    "\n",
    "Get exactly three favorite animals from the AI.\n"
   ]
  },
  {
   "cell_type": "code",
   "execution_count": null,
   "metadata": {},
   "outputs": [],
   "source": [
    "# TODO: Define a TopAnimals model for exactly three animals\n",
    "class TopAnimals(BaseModel):\n",
    "    \"\"\"A list of exactly three favorite animals\"\"\"\n",
    "    # YOUR CODE HERE: Create a field for exactly 3 animal names\n",
    "    pass\n",
    "\n",
    "# TODO: Ask the AI \"Name your top three animals\" and get structured output\n",
    "# YOUR CODE HERE\n",
    "\n",
    "# TODO: Print each animal\n",
    "# YOUR CODE HERE\n"
   ]
  },
  {
   "cell_type": "markdown",
   "metadata": {},
   "source": [
    "### Exercise 3: Contact Info Extraction 📞\n",
    "\n",
    "Extract structured contact information from messy text.\n"
   ]
  },
  {
   "cell_type": "code",
   "execution_count": null,
   "metadata": {},
   "outputs": [],
   "source": [
    "# TODO: Define a ContactInfo model with name, email, and phone fields\n",
    "class ContactInfo(BaseModel):\n",
    "    # YOUR CODE HERE: Add fields for name, email, and phone (all strings)\n",
    "    pass\n",
    "\n",
    "# TODO: Extract contact info from this messy text:\n",
    "# \"Bob Lee, contact: bob.lee@mail.com, tel: 987-6543\"\n",
    "messy_text = \"Bob Lee, contact: bob.lee@mail.com, tel: 987-6543\"\n",
    "prompt = f\"Extract the contact info from: '{messy_text}'\"\n",
    "\n",
    "# YOUR CODE HERE: Use get_structured_answer\n",
    "\n",
    "# TODO: Print name, email, and phone separately\n",
    "# YOUR CODE HERE\n"
   ]
  },
  {
   "cell_type": "markdown",
   "metadata": {},
   "source": [
    "### Exercise 4: Math Quiz with Scoring 🧮\n",
    "\n",
    "Create a quiz that returns both the answer and a score.\n"
   ]
  },
  {
   "cell_type": "code",
   "execution_count": null,
   "metadata": {},
   "outputs": [],
   "source": [
    "# TODO: Define a MathQuiz model with answer (A, B, C, D) and score (integer) fields\n",
    "class MathQuiz(BaseModel):\n",
    "    # YOUR CODE HERE: Add answer field (A, B, C, D) and score field (int)\n",
    "    pass\n",
    "\n",
    "# TODO: Ask this math question and request both answer and score:\n",
    "math_question = \"\"\"\n",
    "What is 2 + 2?\n",
    "A) 3\n",
    "B) 4\n",
    "C) 5\n",
    "D) 6\n",
    "\n",
    "Return your answer choice and give yourself a score of 100 if correct, 0 if wrong.\n",
    "\"\"\"\n",
    "\n",
    "# YOUR CODE HERE: Get structured answer\n",
    "\n",
    "# TODO: Print both the answer choice and the score\n",
    "# YOUR CODE HERE\n"
   ]
  },
  {
   "cell_type": "markdown",
   "metadata": {},
   "source": [
    "### Exercise 5: Task Scheduler 📅\n",
    "\n",
    "Create a task with due date, priority, and description.\n"
   ]
  },
  {
   "cell_type": "code",
   "execution_count": null,
   "metadata": {},
   "outputs": [],
   "source": [
    "# TODO: Define a Task model with due_date, priority, and description fields\n",
    "class Task(BaseModel):\n",
    "    # YOUR CODE HERE: \n",
    "    # - due_date: date type\n",
    "    # - priority: Literal[\"Low\", \"Medium\", \"High\"]\n",
    "    # - description: str\n",
    "    pass\n",
    "\n",
    "# TODO: Ask the AI to create a task from this prompt:\n",
    "task_prompt = \"A task due on July 7, 2025 with high priority: finish the research outline.\"\n",
    "\n",
    "# YOUR CODE HERE: Get structured answer\n",
    "\n",
    "# TODO: Print each field (due_date, priority, description)\n",
    "# YOUR CODE HERE\n"
   ]
  },
  {
   "cell_type": "markdown",
   "metadata": {},
   "source": [
    "## 🎯 Tips and Best Practices\n",
    "\n",
    "Congratulations on completing the exercises! Here are some pro tips for using structured output effectively:\n",
    "\n",
    "### 1. 🌡️ Always Use Temperature 0 for Consistency\n",
    "```python\n",
    "options={\"temperature\": 0.0}  # Deterministic responses\n",
    "```\n",
    "\n",
    "### 2. ✅ Always Validate Responses\n",
    "Use Pydantic's validation to catch mistakes:\n",
    "```python\n",
    "try:\n",
    "    validated = MyModel.model_validate_json(response.message.content)\n",
    "except ValidationError as e:\n",
    "    print(f\"Validation failed: {e}\")\n",
    "```\n",
    "\n",
    "### 3. 🎭 Be Specific in Your Prompts\n",
    "- Clear questions get better structured responses\n",
    "- Include format instructions when needed\n",
    "- Test your prompts with different phrasings\n",
    "\n",
    "### 4. 🏗️ Start Simple, Then Expand\n",
    "- Begin with basic schemas (Yes/No, True/False)\n",
    "- Gradually add more complex nested structures\n",
    "- Test each level of complexity\n",
    "\n",
    "### 5. 🔄 Handle Errors Gracefully\n",
    "Sometimes the AI might not follow the schema perfectly. Always have error handling!\n",
    "\n",
    "## 🚀 What's Next?\n",
    "\n",
    "Now that you've mastered structured output, you can:\n",
    "- Build chatbots with predictable responses\n",
    "- Create data extraction tools\n",
    "- Build automated content analysis systems\n",
    "- Combine structured output with other AI techniques\n",
    "\n",
    "**Happy coding! 🎉**\n"
   ]
  }
 ],
 "metadata": {
  "kernelspec": {
   "display_name": "Python 3 (ipykernel)",
   "language": "python",
   "name": "python3"
  },
  "language_info": {
   "codemirror_mode": {
    "name": "ipython",
    "version": 3
   },
   "file_extension": ".py",
   "mimetype": "text/x-python",
   "name": "python",
   "nbconvert_exporter": "python",
   "pygments_lexer": "ipython3",
   "version": "3.11.13"
  }
 },
 "nbformat": 4,
 "nbformat_minor": 4
}
