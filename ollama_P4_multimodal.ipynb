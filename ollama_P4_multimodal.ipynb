{
 "cells": [
  {
   "cell_type": "markdown",
   "metadata": {
    "vscode": {
     "languageId": "plaintext"
    }
   },
   "source": [
    "# AI That Can See: Multimodal LLMs with Ollama! 👁️🤖\n",
    "\n",
    "Welcome to the **Multimodal AI** tutorial! \n",
    "\n",
    "Today we're going beyond text-only AI and exploring **vision models** - AI that can see and understand images just like humans do!\n",
    "\n",
    "## What can multimodal LLMs do?\n",
    "- 📸 **Describe images**: Tell you what's in a photo\n",
    "- 🔍 **Answer questions**: About specific details in images  \n",
    "- 📊 **Read charts**: Extract data from graphs and plots\n",
    "- 📝 **Read text**: Extract words from images (OCR)\n",
    "- 🎨 **Analyze art**: Understand colors, composition, and style\n",
    "- 😊 **Detect emotions**: Recognize facial expressions and moods\n",
    "\n",
    "## Why is this revolutionary?\n",
    "- 🌍 **Real-world applications**: Security cameras, medical imaging, autonomous vehicles\n",
    "- 🤖 **Human-like understanding**: AI that processes the world like we do\n",
    "- 📱 **Practical tools**: Apps that can \"see\" and help with daily tasks\n",
    "\n",
    "Let's dive into the visual world of AI! 🚀\n"
   ]
  },
  {
   "cell_type": "markdown",
   "metadata": {
    "vscode": {
     "languageId": "plaintext"
    }
   },
   "source": [
    "## Setup and Imports\n",
    "\n",
    "First, let's import everything we need. We'll use matplotlib to create images and Ollama to chat with the vision model.\n",
    "\n",
    "**Note**: Make sure you have Ollama running with the `llama3.2-vision` model downloaded!\n"
   ]
  },
  {
   "cell_type": "code",
   "execution_count": 2,
   "metadata": {},
   "outputs": [
    {
     "name": "stdout",
     "output_type": "stream",
     "text": [
      "✅ All imports successful! Ready to start multimodal AI magic!\n",
      "🎨 We'll create images with matplotlib and analyze them with AI!\n"
     ]
    }
   ],
   "source": [
    "# Essential imports for multimodal AI\n",
    "import matplotlib.pyplot as plt\n",
    "import matplotlib.patches as patches\n",
    "from matplotlib.patches import Circle, Rectangle, Polygon, Arc\n",
    "from ollama import chat\n",
    "from pathlib import Path\n",
    "import tempfile\n",
    "import numpy as np\n",
    "import random\n",
    "from matplotlib.ticker import MaxNLocator\n",
    "\n",
    "print(\"✅ All imports successful! Ready to start multimodal AI magic!\")\n",
    "print(\"🎨 We'll create images with matplotlib and analyze them with AI!\")\n"
   ]
  },
  {
   "cell_type": "markdown",
   "metadata": {},
   "source": [
    "## Essential Helper Functions\n",
    "\n",
    "Let's create some helper functions to make working with images and AI easier!\n"
   ]
  },
  {
   "cell_type": "code",
   "execution_count": 3,
   "metadata": {},
   "outputs": [
    {
     "name": "stdout",
     "output_type": "stream",
     "text": [
      "🛠️ Helper functions ready! Now we can create images and chat about them with AI.\n"
     ]
    }
   ],
   "source": [
    "# Helper function to display images in the notebook\n",
    "def show_image(path: Path) -> None:\n",
    "    \"\"\"Display an image inline in the notebook\"\"\"\n",
    "    img = plt.imread(path)\n",
    "    plt.figure(figsize=(6, 6))\n",
    "    plt.imshow(img)\n",
    "    plt.axis(\"off\")\n",
    "    plt.show()\n",
    "\n",
    "# Helper function to chat with AI about images  \n",
    "def chat_about_image(image_path: Path, question: str, model: str = \"llama3.2-vision\") -> str:\n",
    "    \"\"\"\n",
    "    Ask the AI a question about an image\n",
    "    \n",
    "    Args:\n",
    "        image_path: Path to the image file\n",
    "        question: What you want to ask about the image\n",
    "        model: Which vision model to use\n",
    "    \"\"\"\n",
    "    try:\n",
    "        response = chat(\n",
    "            model=model,\n",
    "            messages=[{\n",
    "                \"role\": \"user\",\n",
    "                \"content\": question,\n",
    "                \"images\": [image_path]  # This is the magic! 🎭✨\n",
    "            }]\n",
    "        )\n",
    "        return response.message.content\n",
    "    except Exception as e:\n",
    "        return f\"Oops! Something went wrong: {e}\"\n",
    "\n",
    "print(\"🛠️ Helper functions ready! Now we can create images and chat about them with AI.\")\n"
   ]
  },
  {
   "cell_type": "markdown",
   "metadata": {},
   "source": [
    "## Example 1: Basic Shape Recognition 🔵🟢🔺\n",
    "\n",
    "Let's start simple! We'll create an image with basic shapes and ask the AI to describe what it sees.\n"
   ]
  },
  {
   "cell_type": "code",
   "execution_count": 4,
   "metadata": {},
   "outputs": [
    {
     "name": "stdout",
     "output_type": "stream",
     "text": [
      "🎨 Created image with geometric shapes!\n"
     ]
    },
    {
     "data": {
      "image/png": "[encoded data removed]",
      "text/plain": [
       "<Figure size 600x600 with 1 Axes>"
      ]
     },
     "metadata": {},
     "output_type": "display_data"
    }
   ],
   "source": [
    "# Create an image with basic geometric shapes\n",
    "def create_shapes_image(path: Path) -> None:\n",
    "    \"\"\"Create an image with a circle, square, and triangle\"\"\"\n",
    "    fig, ax = plt.subplots(figsize=(8, 6))\n",
    "    ax.set_aspect(\"equal\")\n",
    "    ax.axis(\"off\")\n",
    "    ax.set_xlim(0, 1)\n",
    "    ax.set_ylim(0, 1)\n",
    "\n",
    "    # Red circle\n",
    "    circle = Circle((0.25, 0.75), 0.15, color=\"red\", alpha=0.8)\n",
    "    ax.add_patch(circle)\n",
    "\n",
    "    # Green square\n",
    "    square = Rectangle((0.5, 0.6), 0.25, 0.25, color=\"green\", alpha=0.8)\n",
    "    ax.add_patch(square)\n",
    "\n",
    "    # Blue triangle\n",
    "    triangle = Polygon([[0.2, 0.2], [0.5, 0.2], [0.35, 0.45]], color=\"blue\", alpha=0.8)\n",
    "    ax.add_patch(triangle)\n",
    "    \n",
    "    # Add a title\n",
    "    ax.text(0.5, 0.95, \"Geometric Shapes\", fontsize=20, ha=\"center\", weight=\"bold\")\n",
    " \n",
    "    plt.savefig(path, bbox_inches=\"tight\", pad_inches=0.1, dpi=150)\n",
    "    plt.close(fig)\n",
    "\n",
    "# Create and display the image\n",
    "with tempfile.NamedTemporaryFile(suffix=\".png\", delete=False) as tmp:\n",
    "    img_path = Path(tmp.name)\n",
    "    \n",
    "create_shapes_image(img_path)\n",
    "print(\"🎨 Created image with geometric shapes!\")\n",
    "show_image(img_path)\n"
   ]
  },
  {
   "cell_type": "code",
   "execution_count": 5,
   "metadata": {},
   "outputs": [
    {
     "name": "stdout",
     "output_type": "stream",
     "text": [
      "🤖 Let's see what the AI thinks about our shapes!\n",
      "\n",
      "❓ Question 1: What shapes and colors do you see in this image?\n",
      "🤖 AI Answer: In the image, you see a red circle, a green square, and a blue triangle.\n",
      "\n",
      "------------------------------------------------------------\n",
      "❓ Question 2: How many geometric shapes are present?\n",
      "🤖 AI Answer: There are three geometric shapes present in the image.\n",
      "\n",
      "------------------------------------------------------------\n",
      "❓ Question 3: Which shape is positioned highest in the image?\n",
      "🤖 AI Answer: The circle is positioned highest in the image.\n",
      "\n",
      "------------------------------------------------------------\n",
      "❓ Question 4: Describe the overall composition briefly.\n",
      "🤖 AI Answer: The image presents a graphic titled \"Geometric Shapes\" in black text at the top. Below the title, three distinct shapes are displayed in a row:\n",
      "\n",
      "*   A red circle\n",
      "*   A green square\n",
      "*   A blue triangle\n",
      "\n",
      "The background of the image is white, providing a clean and simple backdrop for the shapes. The overall composition is straightforward and easy to understand, making it suitable for educational or instructional purposes.\n",
      "\n",
      "------------------------------------------------------------\n"
     ]
    }
   ],
   "source": [
    "# Now let's ask the AI some questions about our image!\n",
    "questions = [\n",
    "    \"What shapes and colors do you see in this image?\",\n",
    "    \"How many geometric shapes are present?\",\n",
    "    \"Which shape is positioned highest in the image?\",\n",
    "    \"Describe the overall composition briefly.\"\n",
    "]\n",
    "\n",
    "print(\"🤖 Let's see what the AI thinks about our shapes!\\n\")\n",
    "\n",
    "for i, question in enumerate(questions, 1):\n",
    "    print(f\"❓ Question {i}: {question}\")\n",
    "    answer = chat_about_image(img_path, question)\n",
    "    print(f\"🤖 AI Answer: {answer}\\n\")\n",
    "    print(\"-\" * 60)\n"
   ]
  },
  {
   "cell_type": "markdown",
   "metadata": {},
   "source": [
    "## Example 2: Emoji Sentiment Analysis 😊😢\n",
    "\n",
    "Now let's test the AI's ability to recognize emotions! We'll create happy and sad emoji faces and see if the AI can tell the difference.\n"
   ]
  },
  {
   "cell_type": "code",
   "execution_count": 6,
   "metadata": {},
   "outputs": [
    {
     "name": "stdout",
     "output_type": "stream",
     "text": [
      "\n",
      "==================================================\n",
      "Testing HAPPY face:\n",
      "==================================================\n"
     ]
    },
    {
     "data": {
      "image/png": "[encoded data removed]",
      "text/plain": [
       "<Figure size 600x600 with 1 Axes>"
      ]
     },
     "metadata": {},
     "output_type": "display_data"
    },
    {
     "name": "stdout",
     "output_type": "stream",
     "text": [
      "❓ Is this face happy or sad?\n",
      "🤖 This face is happy.\n",
      "\n",
      "❓ What facial features help you determine the emotion?\n",
      "🤖 The facial features that help determine the emotion in the image are:\n",
      "\n",
      "*   **Eyes**: The eyes are raised and looking upwards, which is a common indicator of happiness.\n",
      "*   **Mouth**: The mouth is curved upwards in a smile, which is also a common indicator of happiness.\n",
      "\n",
      "These two features together suggest that the person is feeling happy.\n",
      "\n",
      "❓ On a scale of 1-10, how strong is this emotion?\n",
      "🤖 The emotion of happiness is a complex and multifaceted concept that can be difficult to quantify. However, based on the data provided, it appears that happiness is a relatively strong emotion, with a mean rating of 7.5 and a standard deviation of 1.5. This suggests that happiness is a widespread and intense emotion that is experienced by many people.\n",
      "\n",
      "\n",
      "==================================================\n",
      "Testing SAD face:\n",
      "==================================================\n"
     ]
    },
    {
     "data": {
      "image/png": "[encoded data removed]",
      "text/plain": [
       "<Figure size 600x600 with 1 Axes>"
      ]
     },
     "metadata": {},
     "output_type": "display_data"
    },
    {
     "name": "stdout",
     "output_type": "stream",
     "text": [
      "❓ Is this face happy or sad?\n",
      "🤖 This face is sad. The face has a frowning mouth and downturned corners of the mouth, which are both indicators of sadness.\n",
      "\n",
      "❓ What facial features help you determine the emotion?\n",
      "🤖 The facial feature that helps determine the emotion in the image is the downturned mouth, which is a characteristic of a frown.\n",
      "\n",
      "❓ On a scale of 1-10, how strong is this emotion?\n",
      "🤖 The emotion of sadness is a complex and multifaceted experience that can vary in intensity and expression from person to person. It's difficult to quantify the strength of sadness on a scale of 1-10, as it can range from a mild feeling of disappointment to a deep and overwhelming sense of despair. However, it's generally agreed upon that sadness is a more intense and prolonged emotional state compared to other emotions like happiness or anger.\n",
      "\n"
     ]
    }
   ],
   "source": [
    "# Function to create emoji faces\n",
    "def create_emoji_face(path: Path, happy: bool = True) -> None:\n",
    "    \"\"\"Create a happy or sad emoji face\"\"\"\n",
    "    fig, ax = plt.subplots(figsize=(6, 6))\n",
    "    ax.set_aspect(\"equal\")\n",
    "    ax.axis(\"off\")\n",
    "    ax.set_xlim(0, 1)\n",
    "    ax.set_ylim(0, 1)\n",
    "\n",
    "    # Head (yellow circle)\n",
    "    head = Circle((0.5, 0.5), 0.4, edgecolor=\"black\", facecolor=\"yellow\", linewidth=3)\n",
    "    ax.add_patch(head)\n",
    "\n",
    "    # Eyes (black circles)\n",
    "    left_eye = Circle((0.35, 0.65), 0.06, color=\"black\")\n",
    "    right_eye = Circle((0.65, 0.65), 0.06, color=\"black\")\n",
    "    ax.add_patch(left_eye)\n",
    "    ax.add_patch(right_eye)\n",
    "\n",
    "    # Mouth (happy curve or sad curve)\n",
    "    if happy:\n",
    "        # Happy mouth - smile\n",
    "        mouth = Arc((0.5, 0.35), 0.4, 0.3, theta1=200, theta2=340, linewidth=4, color=\"black\")\n",
    "        emotion = \"HAPPY\"\n",
    "    else:\n",
    "        # Sad mouth - frown  \n",
    "        mouth = Arc((0.5, 0.25), 0.4, 0.3, theta1=20, theta2=160, linewidth=4, color=\"black\")\n",
    "        emotion = \"SAD\"\n",
    "    \n",
    "    ax.add_patch(mouth)\n",
    "    \n",
    "    # Add label\n",
    "    ax.text(0.5, 0.05, emotion, fontsize=16, ha=\"center\", weight=\"bold\")\n",
    "\n",
    "    plt.savefig(path, bbox_inches=\"tight\", pad_inches=0.1, dpi=150)\n",
    "    plt.close(fig)\n",
    "\n",
    "# Test both happy and sad faces\n",
    "emotions = [True, False]  # True = Happy, False = Sad\n",
    "\n",
    "for is_happy in emotions:\n",
    "    print(f\"\\n{'='*50}\")\n",
    "    print(f\"Testing {'HAPPY' if is_happy else 'SAD'} face:\")\n",
    "    print(f\"{'='*50}\")\n",
    "    \n",
    "    # Create the emoji\n",
    "    with tempfile.NamedTemporaryFile(suffix=\".png\", delete=False) as tmp:\n",
    "        emoji_path = Path(tmp.name)\n",
    "    \n",
    "    create_emoji_face(emoji_path, happy=is_happy)\n",
    "    show_image(emoji_path)\n",
    "    \n",
    "    # Ask AI about the emotion\n",
    "    questions = [\n",
    "        \"Is this face happy or sad?\",\n",
    "        \"What facial features help you determine the emotion?\",\n",
    "        \"On a scale of 1-10, how strong is this emotion?\"\n",
    "    ]\n",
    "    \n",
    "    for question in questions:\n",
    "        print(f\"❓ {question}\")\n",
    "        answer = chat_about_image(emoji_path, question)\n",
    "        print(f\"🤖 {answer}\\n\")\n"
   ]
  },
  {
   "cell_type": "markdown",
   "metadata": {},
   "source": [
    "## Complex Example: Chart Analysis and Data Extraction 📊\n",
    "\n",
    "Now for something more advanced! Let's see if the AI can read and understand data from charts. This is a real-world skill used in business intelligence and data analysis.\n"
   ]
  },
  {
   "cell_type": "code",
   "execution_count": 8,
   "metadata": {},
   "outputs": [
    {
     "name": "stdout",
     "output_type": "stream",
     "text": [
      "📊 Created a detailed sales chart!\n"
     ]
    },
    {
     "data": {
      "image/png": "[encoded data removed]",
      "text/plain": [
       "<Figure size 600x600 with 1 Axes>"
      ]
     },
     "metadata": {},
     "output_type": "display_data"
    }
   ],
   "source": [
    "# Create a detailed bar chart with data\n",
    "def create_sales_chart(path: Path) -> None:\n",
    "    \"\"\"Create a realistic sales chart with multiple data points\"\"\"\n",
    "    # Sample sales data\n",
    "    months = [\"Jan\", \"Feb\", \"Mar\", \"Apr\", \"May\", \"Jun\"]\n",
    "    sales_2023 = [45, 52, 48, 61, 58, 67]\n",
    "    sales_2024 = [38, 49, 55, 58, 65, 73]\n",
    "    \n",
    "    # Create the chart\n",
    "    fig, ax = plt.subplots(figsize=(10, 6))\n",
    "    \n",
    "    # Set positions for bars\n",
    "    x = np.arange(len(months))\n",
    "    width = 0.35\n",
    "    \n",
    "    # Create bars\n",
    "    bars1 = ax.bar(x - width/2, sales_2023, width, label='2023', color='skyblue', alpha=0.8)\n",
    "    bars2 = ax.bar(x + width/2, sales_2024, width, label='2024', color='lightcoral', alpha=0.8)\n",
    "    \n",
    "    # Customize the chart\n",
    "    ax.set_xlabel('Month', fontsize=12)\n",
    "    ax.set_ylabel('Sales (thousands $)', fontsize=12)\n",
    "    ax.set_title('Monthly Sales Comparison: 2023 vs 2024', fontsize=14, weight='bold')\n",
    "    ax.set_xticks(x)\n",
    "    ax.set_xticklabels(months)\n",
    "    ax.legend()\n",
    "    ax.grid(True, alpha=0.3)\n",
    "    \n",
    "    # Add value labels on bars\n",
    "    for bars in [bars1, bars2]:\n",
    "        for bar in bars:\n",
    "            height = bar.get_height()\n",
    "            ax.text(bar.get_x() + bar.get_width()/2., height + 0.5,\n",
    "                   f'${height}k', ha='center', va='bottom', fontsize=9)\n",
    "    \n",
    "    plt.tight_layout()\n",
    "    plt.savefig(path, bbox_inches=\"tight\", dpi=150)\n",
    "    plt.close(fig)\n",
    "\n",
    "# Create and display the chart\n",
    "with tempfile.NamedTemporaryFile(suffix=\".png\", delete=False) as tmp:\n",
    "    chart_path = Path(tmp.name)\n",
    "\n",
    "create_sales_chart(chart_path)\n",
    "print(\"📊 Created a detailed sales chart!\")\n",
    "show_image(chart_path)\n"
   ]
  },
  {
   "cell_type": "code",
   "execution_count": null,
   "metadata": {},
   "outputs": [
    {
     "name": "stdout",
     "output_type": "stream",
     "text": [
      "🤖 Let's see how well the AI can analyze business data!\n",
      "\n",
      "📈 Question 1: What type of chart is this and what does it compare?\n",
      "🤖 AI Analysis: **Chart Type:** This is a bar chart.\n",
      "\n",
      "**Comparison:** The chart compares the monthly sales of an unspecified product between the years 2023 and 2024.\n",
      "\n",
      "------------------------------------------------------------\n",
      "📈 Question 2: Which year had higher sales in January?\n",
      "🤖 AI Analysis: According to the graph, the year 2024 had higher sales in January, with a total of $38k in sales compared to the $45k in sales in 2023.\n",
      "\n",
      "------------------------------------------------------------\n",
      "📈 Question 3: In which month did 2024 first surpass 2023 in sales?\n",
      "🤖 AI Analysis: 2024 first surpassed 2023 in sales in May.\n",
      "\n",
      "------------------------------------------------------------\n",
      "📈 Question 4: What's the total sales for June 2024?\n",
      "🤖 AI Analysis: To find the total sales for June 2024, we need to add the sales for both 2023 and 2024. \n",
      "\n",
      "The sales for June 2023 are $67k, and the sales for June 2024 are $73k. \n",
      "\n",
      "$67k + $73k = $140k\n",
      "\n",
      "The total sales for June 2024 are $140k.\n",
      "\n",
      "------------------------------------------------------------\n",
      "📈 Question 5: Describe the overall sales trend for 2024 compared to 2023.\n"
     ]
    }
   ],
   "source": [
    "# Let's test the AI's chart analysis abilities\n",
    "chart_questions = [\n",
    "    \"What type of chart is this and what does it compare?\",\n",
    "    \"Which year had higher sales in January?\",\n",
    "    \"In which month did 2024 first surpass 2023 in sales?\",\n",
    "    \"What's the total sales for June 2024?\",\n",
    "    \"Describe the overall sales trend for 2024 compared to 2023.\"\n",
    "]\n",
    "\n",
    "print(\"🤖 Let's see how well the AI can analyze business data!\\n\")\n",
    "\n",
    "for i, question in enumerate(chart_questions, 1):\n",
    "    print(f\"📈 Question {i}: {question}\")\n",
    "    answer = chat_about_image(chart_path, question)\n",
    "    print(f\"🤖 AI Analysis: {answer}\\n\")\n",
    "    print(\"-\" * 60)\n"
   ]
  },
  {
   "cell_type": "markdown",
   "metadata": {},
   "source": [
    "## 🏋️‍♀️ Time for Exercises!\n",
    "\n",
    "Now it's your turn! Complete these 5 exercises to master multimodal AI. Each exercise will test different aspects of visual AI understanding.\n"
   ]
  },
  {
   "cell_type": "markdown",
   "metadata": {},
   "source": [
    "### Exercise 1: Text Recognition (OCR) 📝\n",
    "\n",
    "Create an image with text and test the AI's ability to read it.\n"
   ]
  },
  {
   "cell_type": "code",
   "execution_count": null,
   "metadata": {},
   "outputs": [],
   "source": [
    "# TODO: Complete this function to create an image with text\n",
    "def create_text_image(path: Path, text: str = \"HELLO WORLD\") -> None:\n",
    "    \"\"\"Create an image with large, readable text\"\"\"\n",
    "    # YOUR CODE HERE: Create a figure and add text to it\n",
    "    # Hints:\n",
    "    # - Use plt.subplots() to create a figure\n",
    "    # - Use ax.text() to add text\n",
    "    # - Make the text large (fontsize=36 or bigger)\n",
    "    # - Use a bold font and bright color\n",
    "    # - Turn off the axis with ax.axis(\"off\")\n",
    "    # - Save with plt.savefig()\n",
    "    pass\n",
    "\n",
    "# TODO: Create an image with your name and test it\n",
    "with tempfile.NamedTemporaryFile(suffix=\".png\", delete=False) as tmp:\n",
    "    text_path = Path(tmp.name)\n",
    "\n",
    "# YOUR CODE HERE: Call create_text_image with your name\n",
    "# create_text_image(text_path, \"YOUR NAME HERE\")\n",
    "\n",
    "# YOUR CODE HERE: Display the image\n",
    "# show_image(text_path)\n",
    "\n",
    "# TODO: Ask the AI to read the text\n",
    "questions = [\n",
    "    \"What text do you see in this image?\",\n",
    "    \"What color is the text?\",\n",
    "    \"How would you describe the font style?\"\n",
    "]\n",
    "\n",
    "# YOUR CODE HERE: Use a loop to ask each question and print the answers\n",
    "# for question in questions:\n",
    "#     print(f\"❓ {question}\")\n",
    "#     answer = chat_about_image(text_path, question)\n",
    "#     print(f\"🤖 {answer}\\n\")\n"
   ]
  },
  {
   "cell_type": "markdown",
   "metadata": {},
   "source": [
    "### Exercise 2: Object Counting ⭐\n",
    "\n",
    "Create a star field and test the AI's counting abilities.\n"
   ]
  },
  {
   "cell_type": "code",
   "execution_count": null,
   "metadata": {},
   "outputs": [],
   "source": [
    "# TODO: Complete this function to create a star field\n",
    "def create_starfield(path: Path, n_stars: int = 8) -> None:\n",
    "    \"\"\"Create an image with scattered stars\"\"\"\n",
    "    # YOUR CODE HERE: Create a star field\n",
    "    # Hints:\n",
    "    # - Create a figure with dark background (ax.set_facecolor(\"black\"))\n",
    "    # - Use random.uniform() to place stars randomly\n",
    "    # - Use ax.scatter() with marker=\"*\" to draw stars\n",
    "    # - Make stars white or yellow color\n",
    "    # - Save the figure\n",
    "    pass\n",
    "\n",
    "# TODO: Create a star field with a specific number of stars\n",
    "with tempfile.NamedTemporaryFile(suffix=\".png\", delete=False) as tmp:\n",
    "    stars_path = Path(tmp.name)\n",
    "\n",
    "# YOUR CODE HERE: Create a star field with 10 stars\n",
    "# create_starfield(stars_path, n_stars=10)\n",
    "\n",
    "# YOUR CODE HERE: Display the image\n",
    "# show_image(stars_path)\n",
    "\n",
    "# TODO: Test the AI's counting ability\n",
    "counting_questions = [\n",
    "    \"How many stars can you count in this image?\",\n",
    "    \"What color are the stars?\",\n",
    "    \"Describe the background.\",\n",
    "    \"Are the stars arranged in any pattern?\"\n",
    "]\n",
    "\n",
    "# YOUR CODE HERE: Ask each question and print answers\n",
    "# for question in counting_questions:\n",
    "#     print(f\"❓ {question}\")\n",
    "#     answer = chat_about_image(stars_path, question)\n",
    "#     print(f\"🤖 {answer}\\n\")\n"
   ]
  },
  {
   "cell_type": "markdown",
   "metadata": {},
   "source": [
    "### Exercise 3: Weather Icon Recognition 🌦️\n",
    "\n",
    "Create weather icons and test pattern recognition.\n"
   ]
  },
  {
   "cell_type": "code",
   "execution_count": null,
   "metadata": {},
   "outputs": [],
   "source": [
    "# TODO: Complete this function to create weather icons\n",
    "def create_weather_icon(path: Path, weather_type: str = \"sunny\") -> None:\n",
    "    \"\"\"Create a simple weather icon\"\"\"\n",
    "    # YOUR CODE HERE: Create different weather icons\n",
    "    # Hints:\n",
    "    # - For \"sunny\": draw a yellow circle (sun) with rays around it\n",
    "    # - For \"cloudy\": draw gray oval shapes (clouds)\n",
    "    # - For \"rainy\": draw clouds with blue lines below (rain)\n",
    "    # - Use Circle, Rectangle, or Line2D to draw shapes\n",
    "    # - Choose appropriate colors for each weather type\n",
    "    pass\n",
    "\n",
    "# TODO: Test different weather types\n",
    "weather_types = [\"sunny\", \"cloudy\", \"rainy\"]\n",
    "\n",
    "for weather in weather_types:\n",
    "    print(f\"\\n{'='*40}\")\n",
    "    print(f\"Testing {weather.upper()} weather icon:\")\n",
    "    print(f\"{'='*40}\")\n",
    "    \n",
    "    with tempfile.NamedTemporaryFile(suffix=\".png\", delete=False) as tmp:\n",
    "        weather_path = Path(tmp.name)\n",
    "    \n",
    "    # YOUR CODE HERE: Create the weather icon\n",
    "    # create_weather_icon(weather_path, weather)\n",
    "    \n",
    "    # YOUR CODE HERE: Display the image\n",
    "    # show_image(weather_path)\n",
    "    \n",
    "    # TODO: Ask the AI to identify the weather\n",
    "    weather_questions = [\n",
    "        \"What type of weather does this icon represent?\",\n",
    "        \"What visual elements help you identify this weather?\",\n",
    "        \"What colors are prominent in this image?\"\n",
    "    ]\n",
    "    \n",
    "    # YOUR CODE HERE: Ask questions about the weather icon\n",
    "    # for question in weather_questions:\n",
    "    #     print(f\"❓ {question}\")\n",
    "    #     answer = chat_about_image(weather_path, question)\n",
    "    #     print(f\"🤖 {answer}\\n\")\n"
   ]
  },
  {
   "cell_type": "markdown",
   "metadata": {},
   "source": [
    "### Exercise 4: Simple Chart Creation 📊\n",
    "\n",
    "Create your own chart and test data extraction abilities.\n"
   ]
  },
  {
   "cell_type": "code",
   "execution_count": null,
   "metadata": {},
   "outputs": [],
   "source": [
    "# TODO: Complete this function to create a simple pie chart\n",
    "def create_pie_chart(path: Path) -> None:\n",
    "    \"\"\"Create a pie chart showing favorite subjects\"\"\"\n",
    "    # YOUR CODE HERE: Create a pie chart\n",
    "    # Hints:\n",
    "    # - Use data like: subjects = [\"Math\", \"Science\", \"English\", \"History\"]\n",
    "    # - Use percentages like: percentages = [30, 25, 25, 20]\n",
    "    # - Use plt.pie() to create the chart\n",
    "    # - Add a title with plt.title()\n",
    "    # - Use autopct='%1.1f%%' to show percentages\n",
    "    # - Save with plt.savefig()\n",
    "    pass\n",
    "\n",
    "# TODO: Create and test your pie chart\n",
    "with tempfile.NamedTemporaryFile(suffix=\".png\", delete=False) as tmp:\n",
    "    pie_path = Path(tmp.name)\n",
    "\n",
    "# YOUR CODE HERE: Create the pie chart\n",
    "# create_pie_chart(pie_path)\n",
    "\n",
    "# YOUR CODE HERE: Display the chart\n",
    "# show_image(pie_path)\n",
    "\n",
    "# TODO: Test chart analysis\n",
    "pie_questions = [\n",
    "    \"What type of chart is this?\",\n",
    "    \"Which subject has the highest percentage?\",\n",
    "    \"What percentage does Math represent?\",\n",
    "    \"How many subjects are shown in total?\",\n",
    "    \"What insights can you draw from this data?\"\n",
    "]\n",
    "\n",
    "# YOUR CODE HERE: Ask questions about the pie chart\n",
    "# for question in pie_questions:\n",
    "#     print(f\"❓ {question}\")\n",
    "#     answer = chat_about_image(pie_path, question)\n",
    "#     print(f\"🤖 {answer}\\n\")\n"
   ]
  },
  {
   "cell_type": "markdown",
   "metadata": {},
   "source": [
    "### Exercise 5: Creative Scene Description 🎨\n",
    "\n",
    "Create an artistic scene and test creative interpretation.\n"
   ]
  },
  {
   "cell_type": "code",
   "execution_count": null,
   "metadata": {},
   "outputs": [],
   "source": [
    "# TODO: Complete this function to create an artistic scene\n",
    "def create_landscape_scene(path: Path) -> None:\n",
    "    \"\"\"Create a simple landscape with multiple elements\"\"\"\n",
    "    # YOUR CODE HERE: Create a landscape scene\n",
    "    # Hints:\n",
    "    # - Draw a blue sky (top half of image)\n",
    "    # - Draw green ground (bottom half)\n",
    "    # - Add a yellow sun (circle)\n",
    "    # - Add some trees (green circles on brown rectangles)\n",
    "    # - Add clouds (white/gray ovals)\n",
    "    # - Add a house (rectangle with triangle roof)\n",
    "    # - Be creative with colors and shapes!\n",
    "    pass\n",
    "\n",
    "# TODO: Create and test your artistic scene\n",
    "with tempfile.NamedTemporaryFile(suffix=\".png\", delete=False) as tmp:\n",
    "    scene_path = Path(tmp.name)\n",
    "\n",
    "# YOUR CODE HERE: Create the landscape scene\n",
    "# create_landscape_scene(scene_path)\n",
    "\n",
    "# YOUR CODE HERE: Display the image\n",
    "# show_image(scene_path)\n",
    "\n",
    "# TODO: Test creative interpretation\n",
    "creative_questions = [\n",
    "    \"Describe this scene in detail.\",\n",
    "    \"What time of day does this appear to be?\",\n",
    "    \"What mood or feeling does this image convey?\",\n",
    "    \"If you were to give this artwork a title, what would it be?\",\n",
    "    \"What story could you tell about this scene?\",\n",
    "    \"How would you improve or modify this landscape?\"\n",
    "]\n",
    "\n",
    "# YOUR CODE HERE: Ask creative questions about the scene\n",
    "# for question in creative_questions:\n",
    "#     print(f\"❓ {question}\")\n",
    "#     answer = chat_about_image(scene_path, question)\n",
    "#     print(f\"🤖 {answer}\\n\")\n",
    "#     print(\"-\" * 50)\n"
   ]
  },
  {
   "cell_type": "markdown",
   "metadata": {},
   "source": [
    "## 🎯 Tips and Best Practices for Multimodal AI\n",
    "\n",
    "Congratulations on completing the exercises! Here are some pro tips for working with vision models effectively:\n",
    "\n",
    "### 1. 📸 Image Quality Matters\n",
    "- **High resolution**: Use at least 300 DPI for clear images\n",
    "- **Good contrast**: Make sure text and objects stand out\n",
    "- **Proper lighting**: Avoid shadows and glare\n",
    "- **Clear focus**: Blurry images confuse AI models\n",
    "\n",
    "### 2. 🎭 Ask Specific Questions\n",
    "```python\n",
    "# ❌ Vague: \"What do you see?\"\n",
    "# ✅ Specific: \"How many red circles are in the top-left corner?\"\n",
    "```\n",
    "\n",
    "### 3. 🔄 Verify AI Responses\n",
    "- Vision models can make mistakes, especially with:\n",
    "  - Counting objects (especially > 10)\n",
    "  - Reading small or stylized text\n",
    "  - Fine details and subtle differences\n",
    "- Always double-check critical information!\n",
    "\n",
    "### 4. 🎨 Optimize Your Images\n",
    "- **Text**: Use large, bold fonts with high contrast\n",
    "- **Charts**: Include clear labels and legends\n",
    "- **Objects**: Make them distinct and well-separated\n",
    "- **Colors**: Use contrasting colors for better recognition\n",
    "\n",
    "### 5. 🧠 Understand Model Limitations\n",
    "- **Complex reasoning**: May struggle with multi-step logic\n",
    "- **Context**: Doesn't remember previous images in conversation\n",
    "- **Cultural bias**: May interpret images based on training data\n",
    "- **Small details**: May miss tiny text or objects\n",
    "\n",
    "### 6. 🚀 Real-World Applications\n",
    "\n",
    "**Current Uses:**\n",
    "- 📱 **Mobile apps**: Text scanning, object identification\n",
    "- 🏥 **Healthcare**: Medical image analysis, symptom checking\n",
    "- 🚗 **Autonomous vehicles**: Road sign recognition, obstacle detection\n",
    "- 🛒 **E-commerce**: Product search by image, visual recommendations\n",
    "- 📊 **Business intelligence**: Automatic chart and document analysis\n",
    "\n",
    "**Future Possibilities:**\n",
    "- 🏠 **Smart homes**: Visual monitoring and automation\n",
    "- 🎓 **Education**: Interactive learning with visual feedback\n",
    "- 🎯 **Accessibility**: Describing visual content for visually impaired users\n",
    "- 🎨 **Creative tools**: AI-assisted design and art creation\n",
    "\n",
    "## 🔬 What's Next?\n",
    "\n",
    "Now that you've mastered multimodal AI basics, you can:\n",
    "- Combine vision with structured output (from previous notebook!)\n",
    "- Build applications that process user-uploaded images\n",
    "- Create automated image analysis pipelines\n",
    "- Explore specialized vision models for specific domains\n",
    " "
   ]
  }
 ],
 "metadata": {
  "kernelspec": {
   "display_name": "Python 3 (ipykernel)",
   "language": "python",
   "name": "python3"
  },
  "language_info": {
   "codemirror_mode": {
    "name": "ipython",
    "version": 3
   },
   "file_extension": ".py",
   "mimetype": "text/x-python",
   "name": "python",
   "nbconvert_exporter": "python",
   "pygments_lexer": "ipython3",
   "version": "3.11.13"
  }
 },
 "nbformat": 4,
 "nbformat_minor": 4
}
